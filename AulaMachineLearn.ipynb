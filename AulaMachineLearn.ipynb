{
  "nbformat": 4,
  "nbformat_minor": 0,
  "metadata": {
    "colab": {
      "provenance": [],
      "authorship_tag": "ABX9TyPqPJdI0ob3IbLM6BSj9u4g",
      "include_colab_link": true
    },
    "kernelspec": {
      "name": "python3",
      "display_name": "Python 3"
    },
    "language_info": {
      "name": "python"
    }
  },
  "cells": [
    {
      "cell_type": "markdown",
      "metadata": {
        "id": "view-in-github",
        "colab_type": "text"
      },
      "source": [
        "<a href=\"https://colab.research.google.com/github/DMariz/MachineLearnCollab/blob/main/AulaMachineLearn.ipynb\" target=\"_parent\"><img src=\"https://colab.research.google.com/assets/colab-badge.svg\" alt=\"Open In Colab\"/></a>"
      ]
    },
    {
      "cell_type": "markdown",
      "source": [
        "# Aula Machine Learn\n",
        "### Relembrando Pyhton"
      ],
      "metadata": {
        "id": "qS4octEVlyEk"
      }
    },
    {
      "cell_type": "code",
      "execution_count": null,
      "metadata": {
        "colab": {
          "base_uri": "https://localhost:8080/"
        },
        "id": "yZugwFoSlfIL",
        "outputId": "c9d9bb3e-873f-4f38-f8eb-1cb329b4cb80"
      },
      "outputs": [
        {
          "output_type": "stream",
          "name": "stdout",
          "text": [
            "3\n",
            "4260\n"
          ]
        }
      ],
      "source": [
        "def Salario_Total (qtdeVendas):\n",
        "  SALARIO_BASE = 4200\n",
        "  extra = qtdeVendas * 20\n",
        "  return SALARIO_BASE + extra\n",
        "\n",
        "resposta =Salario_Total( int(input()))\n",
        "\n",
        "print(resposta)"
      ]
    },
    {
      "cell_type": "code",
      "source": [
        "#Vendas da semana seguem a ordem de Segunda -> Domingo\n",
        "vendasSemana = [7,6,5,4,3,2,1]\n",
        "\n",
        "qtdeVendasSegunda =  7\n",
        "qtdeVendasTerca = 6\n",
        "qtdeVendasQuarta = 5\n",
        "qtdeVendasQuinta = 4\n",
        "qtdeVendasSexta = 3\n",
        "qtdeVendasSabado = 2\n",
        "qtdeVendasDomingo = 1\n",
        "\n",
        "ValorSemana = 300 * (qtdeVendasSegunda + qtdeVendasTerca + qtdeVendasQuarta + qtdeVendasQuinta + qtdeVendasSexta)\n",
        "ValorFDS =  250 * (qtdeVendasSabado + qtdeVendasDomingo)\n",
        "lucrototal = ValorFDS + ValorSemana\n",
        "print(lucrototal)\n",
        "\n",
        "lucrototal = 300*(sum(vendasSemana[:5])) + 250*(sum(vendasSemana[5:]))\n",
        "\n",
        "print(lucrototal)"
      ],
      "metadata": {
        "colab": {
          "base_uri": "https://localhost:8080/"
        },
        "id": "roaeDDejopss",
        "outputId": "55a34cfd-4e9b-436a-d54f-e4411ccb68e8"
      },
      "execution_count": null,
      "outputs": [
        {
          "output_type": "stream",
          "name": "stdout",
          "text": [
            "8250\n",
            "8250\n"
          ]
        }
      ]
    },
    {
      "cell_type": "code",
      "source": [
        "qtdeVacinaDisponivel = 520\n",
        "qtdeVacinados = 32\n",
        "qtdePopulacao = 100\n",
        "qtdeSaude = 30\n",
        "\n",
        "qtdFalta = qtdePopulacao - qtdeVacinados\n",
        "VacinaDis = qtdeVacinaDisponivel - qtdeVacinados\n",
        "c = qtdFalta//5\n",
        "\n",
        "print(qtdFalta)\n",
        "print(\"Sobrou vacinas\",VacinaDis)\n",
        "print(c)\n",
        "\n",
        "if c <= qtdeSaude:\n",
        "  print(\"tem profissional suficiente\")"
      ],
      "metadata": {
        "colab": {
          "base_uri": "https://localhost:8080/"
        },
        "id": "JKfO2ICO0wt8",
        "outputId": "31595a60-965e-4e94-d02c-3b8e02957b54"
      },
      "execution_count": null,
      "outputs": [
        {
          "output_type": "stream",
          "name": "stdout",
          "text": [
            "68\n",
            "Sobrou vacinas 488\n",
            "13\n",
            "tem profissional suficiente\n"
          ]
        }
      ]
    },
    {
      "cell_type": "code",
      "source": [
        "Nvendas = int(input(\"Numero de Vendas: \"))\n",
        "salarioBase = 4200\n",
        "comissao = [20,30]\n",
        "\n",
        "if Nvendas < 30:\n",
        "  total = salarioBase + comissao[0]*Nvendas\n",
        "else:\n",
        "  total =salarioBase + comissao[1]*Nvendas\n",
        "\n",
        "print(total)"
      ],
      "metadata": {
        "colab": {
          "base_uri": "https://localhost:8080/"
        },
        "id": "tesm7aeT3I7p",
        "outputId": "af8eab8b-4d21-4715-88ff-652dff958a9a"
      },
      "execution_count": null,
      "outputs": [
        {
          "output_type": "stream",
          "name": "stdout",
          "text": [
            "Numero de Vendas: 40\n",
            "5400\n"
          ]
        }
      ]
    },
    {
      "cell_type": "markdown",
      "source": [
        "### Perceptron"
      ],
      "metadata": {
        "id": "U93KLNLA2PPk"
      }
    },
    {
      "cell_type": "code",
      "source": [
        "import numpy as np"
      ],
      "metadata": {
        "id": "6DyZDW8XDPG8"
      },
      "execution_count": null,
      "outputs": []
    },
    {
      "cell_type": "code",
      "source": [
        "\n",
        "\n",
        "def perceptron():\n"
      ],
      "metadata": {
        "id": "uAl-T4Ya2R2z"
      },
      "execution_count": null,
      "outputs": []
    },
    {
      "cell_type": "code",
      "source": [
        "print((-0.19) + (-0.48) + 0.4)"
      ],
      "metadata": {
        "colab": {
          "base_uri": "https://localhost:8080/"
        },
        "id": "qv9oK1kbO8Z4",
        "outputId": "570f89c0-9dcb-4a6b-cfd0-2285d92e1ea4"
      },
      "execution_count": null,
      "outputs": [
        {
          "output_type": "stream",
          "name": "stdout",
          "text": [
            "-0.2699999999999999\n"
          ]
        }
      ]
    },
    {
      "cell_type": "markdown",
      "source": [],
      "metadata": {
        "id": "SyYHVCnoO8PJ"
      }
    }
  ]
}